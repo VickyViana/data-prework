{
 "cells": [
  {
   "cell_type": "markdown",
   "metadata": {},
   "source": [
    "<img src=\"https://bit.ly/2VnXWr2\" width=\"100\" align=\"left\">"
   ]
  },
  {
   "cell_type": "markdown",
   "metadata": {},
   "source": [
    "# Rock, Paper & Scissors\n",
    "\n",
    "Let's play the famous game against our computer. You can check the rules [here](https://en.wikipedia.org/wiki/Rock%E2%80%93paper%E2%80%93scissors). \n",
    "\n",
    "## Task\n",
    "Create a program that imitates the playability of the well known game of rock, paper, scissors. Follow the guidelines provided.\n",
    "\n",
    "## Tools\n",
    "1. Loop: **for/while**\n",
    "2. Functions: **input(), print()...**\n",
    "3. Conditional statements: **if, elif, else**\n",
    "4. Definition of functions. Modular programming\n",
    "5. Import modules\n",
    "\n",
    "**To solve this challenge, the use of functions is recommended.**\n",
    "\n",
    "#### 1. Import the choice function of the random module."
   ]
  },
  {
   "cell_type": "code",
   "execution_count": 1,
   "metadata": {},
   "outputs": [],
   "source": [
    "import random\n"
   ]
  },
  {
   "cell_type": "markdown",
   "metadata": {},
   "source": [
    "#### 2. Create a list that includes the 3 possible gesture options of the game: 'rock', 'paper' or 'scissors'. Store the list in a variable called `gestures`."
   ]
  },
  {
   "cell_type": "code",
   "execution_count": 2,
   "metadata": {},
   "outputs": [],
   "source": [
    "gestures = ['rock', 'paper', 'scissors']"
   ]
  },
  {
   "cell_type": "markdown",
   "metadata": {},
   "source": [
    "#### 3. Create a variable called `n_rounds` to store the maximum number of rounds to play in a game. \n",
    "Remember that the number of rounds must be odd: 1, 3, 5, ..."
   ]
  },
  {
   "cell_type": "code",
   "execution_count": 3,
   "metadata": {},
   "outputs": [],
   "source": [
    "n_rounds = 5"
   ]
  },
  {
   "cell_type": "markdown",
   "metadata": {},
   "source": [
    "#### 4. Create a variable called `rounds_to_win` to store the number of rounds that a player must win to win the game.\n",
    "**Hint**: the value stored in `rounds_to_win` depends on the value of `n_rounds`. "
   ]
  },
  {
   "cell_type": "code",
   "execution_count": 4,
   "metadata": {},
   "outputs": [],
   "source": [
    "rounds_to_win= int(n_rounds/2)+1"
   ]
  },
  {
   "cell_type": "markdown",
   "metadata": {},
   "source": [
    "#### 5. Create two variables to store the number of rounds that the computer and the player have won. Call these variables `cpu_score` and `player_score`."
   ]
  },
  {
   "cell_type": "code",
   "execution_count": 5,
   "metadata": {},
   "outputs": [],
   "source": [
    "cpu_score = 0\n",
    "player_score = 0"
   ]
  },
  {
   "cell_type": "markdown",
   "metadata": {},
   "source": [
    "#### 6. Define a function that randomly returns one of the 3 gesture options.\n",
    "You will use this function to simulate the gesture choice of the computer. "
   ]
  },
  {
   "cell_type": "code",
   "execution_count": 6,
   "metadata": {},
   "outputs": [
    {
     "name": "stdout",
     "output_type": "stream",
     "text": [
      "paper\n"
     ]
    }
   ],
   "source": [
    "def gesture_cpu():\n",
    "    g_cpu = random.choice(gestures)\n",
    "    return g_cpu\n",
    "cpu = gesture_cpu()\n",
    "print(cpu)"
   ]
  },
  {
   "cell_type": "markdown",
   "metadata": {},
   "source": [
    "#### 7. Define a function that asks the player which is the gesture he or she wants to show: 'rock', 'paper' or 'scissors'.\n",
    "The player should only be allowed to choose one of the 3 gesture options. If the player's choice is not rock, paper or scissors, keep asking until it is."
   ]
  },
  {
   "cell_type": "code",
   "execution_count": 7,
   "metadata": {},
   "outputs": [
    {
     "name": "stdout",
     "output_type": "stream",
     "text": [
      "Please introduce your gesture: rock\n"
     ]
    }
   ],
   "source": [
    "def gesture_player():\n",
    "    g_player = input(\"Please introduce your gesture: \")\n",
    "    while g_player not in gestures:\n",
    "       g_player =input(\"Wrong gesture, please enter rock, paper or scissors:\")\n",
    "    return g_player\n",
    "\n",
    "player = gesture_player()"
   ]
  },
  {
   "cell_type": "markdown",
   "metadata": {},
   "source": [
    "#### 8. Define a function that checks who won a round. \n",
    "The function should return 0 if there is a tie, 1 if the computer wins and 2 if the player wins."
   ]
  },
  {
   "cell_type": "code",
   "execution_count": 8,
   "metadata": {},
   "outputs": [
    {
     "data": {
      "text/plain": [
       "'2'"
      ]
     },
     "execution_count": 8,
     "metadata": {},
     "output_type": "execute_result"
    }
   ],
   "source": [
    "def the_play(x, y):\n",
    "    if x == y:\n",
    "        return '0'\n",
    "    elif ((x == 'rock') & (y == 'paper')) | ((x == 'paper') & (y == 'scissors')) | ((x == 'scissors') & (y == 'rock')):\n",
    "        return '1'\n",
    "    elif ((x == 'rock') & (y == 'scissors')) | ((x == 'paper') & (y == 'rock')) | ((x == 'scissors') & (y == 'paper')):\n",
    "        return '2'\n",
    "the_play('rock', 'scissors')"
   ]
  },
  {
   "cell_type": "markdown",
   "metadata": {},
   "source": [
    "#### 9. Define a function that prints the choice of the computer, the choice of the player and a message that announces who won the current round. \n",
    "You should also use this function to update the variables that count the number of rounds that the computer and the player have won. The score of the winner increases by one point. If there is a tie, the score does not increase."
   ]
  },
  {
   "cell_type": "code",
   "execution_count": 9,
   "metadata": {},
   "outputs": [],
   "source": [
    "def message(p,q):\n",
    "    print(\"Player chooses:\",p)\n",
    "    print(\"Computer chooses:\",q)\n",
    "    return the_play(p,q)\n",
    "    comparation = message(player,cpu)\n",
    "    if comparation == '1':\n",
    "        cpu_score += 1\n",
    "    elif comparation == '2':\n",
    "        player_score += 1\n",
    "    print(\"Computer's score is:\", cpu_score)\n",
    "    print(\"Player's score is:\", player_score)\n"
   ]
  },
  {
   "cell_type": "markdown",
   "metadata": {},
   "source": [
    "#### 10. Now it's time to code the execution of the game using the functions and variables you defined above. \n",
    "\n",
    "First, create a loop structure that repeats while no player reaches the minimum score necessary to win and the number of rounds is less than the maximum number of rounds to play in a game.  \n",
    "\n",
    "Inside the loop, use the functions and variables above to create the execution of a round: ask for the player's choice, generate the random choice of the computer, show the round results, update the scores, etc. "
   ]
  },
  {
   "cell_type": "code",
   "execution_count": 10,
   "metadata": {},
   "outputs": [
    {
     "name": "stdout",
     "output_type": "stream",
     "text": [
      "Please introduce your gesture: rock\n",
      "Player chooses: rock\n",
      "Computer chooses: scissors\n",
      "Computer's score is: 0\n",
      "Player's score is: 1\n",
      "Please introduce your gesture: rock\n",
      "Player chooses: rock\n",
      "Computer chooses: paper\n",
      "Computer's score is: 1\n",
      "Player's score is: 1\n",
      "Please introduce your gesture: rock\n",
      "Player chooses: rock\n",
      "Computer chooses: rock\n",
      "Computer's score is: 1\n",
      "Player's score is: 1\n",
      "Please introduce your gesture: rock\n",
      "Player chooses: rock\n",
      "Computer chooses: paper\n",
      "Computer's score is: 2\n",
      "Player's score is: 1\n",
      "Please introduce your gesture: rock\n",
      "Player chooses: rock\n",
      "Computer chooses: rock\n",
      "Computer's score is: 2\n",
      "Player's score is: 1\n"
     ]
    }
   ],
   "source": [
    "for i in range(n_rounds):\n",
    "    player = gesture_player()\n",
    "    cpu = gesture_cpu()\n",
    "    comparation = message(player,cpu)\n",
    "    if comparation == '1':\n",
    "        cpu_score += 1\n",
    "    elif comparation == '2':\n",
    "        player_score += 1\n",
    "    print(\"Computer's score is:\", cpu_score)\n",
    "    print(\"Player's score is:\", player_score)\n",
    "    i +=1\n",
    "    if (cpu_score == rounds_to_win) | (player_score == rounds_to_win):\n",
    "        break\n"
   ]
  },
  {
   "cell_type": "markdown",
   "metadata": {},
   "source": [
    "#### 11. Print the winner of the game based on who won more rounds.\n",
    "Remember that the game might be tied. "
   ]
  },
  {
   "cell_type": "code",
   "execution_count": 11,
   "metadata": {},
   "outputs": [
    {
     "name": "stdout",
     "output_type": "stream",
     "text": [
      "The winner is the computer\n"
     ]
    }
   ],
   "source": [
    "if (cpu_score > player_score):\n",
    "    print(\"The winner is the computer\")\n",
    "elif (cpu_score < player_score):\n",
    "    print(\"The winner is the player\")\n",
    "else:\n",
    "    print(\" It is a tie\")"
   ]
  },
  {
   "cell_type": "markdown",
   "metadata": {},
   "source": [
    "# Bonus: Rock, Paper, Scissors, Lizard & Spock\n",
    "![](images/rpsls.jpg)\n",
    "\n",
    "In this challenge, you need to improve the previous game by adding two new options. To know more about the rules of the improved version of rock, paper, scissors, check this [link](http://www.samkass.com/theories/RPSSL.html). \n",
    "\n",
    "In addition, you will also need to improve how the game interacts with the player: the number of rounds to play, which must be an odd number, will be requested to the user until a valid number is entered. Define a new function to make that request.\n",
    "\n",
    "**Hint**: Try to reuse the code that you already coded in the previous challenge. If your code is efficient, this bonus will only consist of simple modifications to the original game."
   ]
  },
  {
   "cell_type": "code",
   "execution_count": 34,
   "metadata": {},
   "outputs": [
    {
     "name": "stdout",
     "output_type": "stream",
     "text": [
      "Please introduce the number of round to play: 4\n",
      "Please enter an odd number of rounds:5\n",
      "Please introduce your gesture: Spock\n",
      "Player chooses: Spock\n",
      "Computer chooses: scissors\n",
      "Computer's score is: 0\n",
      "Player's score is: 1\n",
      "Please introduce your gesture: rock\n",
      "Player chooses: rock\n",
      "Computer chooses: scissors\n",
      "Computer's score is: 0\n",
      "Player's score is: 2\n",
      "Please introduce your gesture: rock\n",
      "Player chooses: rock\n",
      "Computer chooses: Spock\n",
      "Computer's score is: 1\n",
      "Player's score is: 2\n",
      "Please introduce your gesture: rock\n",
      "Player chooses: rock\n",
      "Computer chooses: paper\n",
      "Computer's score is: 2\n",
      "Player's score is: 2\n",
      "Please introduce your gesture: paper\n",
      "Player chooses: paper\n",
      "Computer chooses: paper\n",
      "Computer's score is: 2\n",
      "Player's score is: 2\n",
      " It is a tie\n"
     ]
    }
   ],
   "source": [
    "gestures = ['rock', 'paper', 'scissors', 'lizard','Spock']\n",
    "cpu_score = 0\n",
    "player_score = 0\n",
    "\n",
    "def rounds_player():\n",
    "    r_player = int(input(\"Please introduce the number of round to play: \"))\n",
    "    while ((r_player % 2) == 0):\n",
    "       r_player =int(input(\"Please enter an odd number of rounds:\"))\n",
    "    return r_player\n",
    "rounds_ls = rounds_player()\n",
    "\n",
    "def gesture_player_ls():\n",
    "    g_player_ls = input(\"Please introduce your gesture: \")\n",
    "    while g_player_ls not in gestures:\n",
    "       g_player_ls =input(\"Wrong gesture, please enter rock, paper, scissors, lizard or Spock:\")\n",
    "    return g_player_ls\n",
    "\n",
    "\n",
    "def the_play_ls(x, y):\n",
    "    if x == y:\n",
    "        return '0'\n",
    "    elif ((x == 'rock') & (y == 'paper')) | ((x == 'Spock') & (y == 'paper')) | ((x == 'paper') & (y == 'scissors')) | ((x == 'lizard') & (y == 'scissors')) | ((x == 'scissors') & (y == 'Spock') | ((x == 'rock') & (y == 'Spock')) | ((x == 'Spock') & (y == 'lizard')) | ((x == 'paper') & (y == 'lizard')) | ((x == 'scissors') & (y == 'rock')) | ((x == 'lizard') & (y == 'rock'))):\n",
    "        return '1'\n",
    "    elif ((x == 'paper') & (y == 'rock')) | ((x == 'paper') & (y == 'Spock')) | ((x == 'scissors') & (y == 'paper')) | ((x == 'scissors') & (y == 'lizard')) | ((x == 'Spock') & (y == 'scissors') | ((x == 'Spock') & (y == 'rock')) | ((x == 'lizard') & (y == 'Spock')) | ((x == 'lizard') & (y == 'paper')) | ((x == 'rock') & (y == 'scissors')) | ((x == 'rock') & (y == 'lizard'))):\n",
    "        return '2'\n",
    "\n",
    "def message(p,q):\n",
    "    print(\"Player chooses:\",p)\n",
    "    print(\"Computer chooses:\",q)\n",
    "    return the_play_ls(p,q)\n",
    "    comparation = message(player_ls,cpu)\n",
    "    if comparation == '1':\n",
    "        cpu_score += 1\n",
    "    elif comparation == '2':\n",
    "        player_score += 1\n",
    "    print(\"Computer's score is:\", cpu_score)\n",
    "    print(\"Player's score is:\", player_score)\n",
    "    \n",
    "    \n",
    "for i in range(int(rounds_ls)):\n",
    "    player_ls = gesture_player_ls()\n",
    "    cpu = gesture_cpu()\n",
    "    comparation = message(player_ls,cpu)\n",
    "    if comparation == '1':\n",
    "        cpu_score += 1\n",
    "    elif comparation == '2':\n",
    "        player_score += 1\n",
    "    print(\"Computer's score is:\", cpu_score)\n",
    "    print(\"Player's score is:\", player_score)\n",
    "    i +=1\n",
    "    if (cpu_score == rounds_to_win) | (player_score == rounds_to_win):\n",
    "        break\n",
    "        \n",
    "if (cpu_score > player_score):\n",
    "    print(\"The winner is the computer\")\n",
    "elif (cpu_score < player_score):\n",
    "    print(\"The winner is the player\")\n",
    "else:\n",
    "    print(\" It is a tie\")"
   ]
  },
  {
   "cell_type": "code",
   "execution_count": null,
   "metadata": {},
   "outputs": [],
   "source": []
  }
 ],
 "metadata": {
  "kernelspec": {
   "display_name": "Python 3",
   "language": "python",
   "name": "python3"
  },
  "language_info": {
   "codemirror_mode": {
    "name": "ipython",
    "version": 3
   },
   "file_extension": ".py",
   "mimetype": "text/x-python",
   "name": "python",
   "nbconvert_exporter": "python",
   "pygments_lexer": "ipython3",
   "version": "3.8.3"
  }
 },
 "nbformat": 4,
 "nbformat_minor": 2
}
